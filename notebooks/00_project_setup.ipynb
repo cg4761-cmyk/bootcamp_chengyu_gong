{
 "cells": [
  {
   "cell_type": "markdown",
   "id": "94c7d6eb",
   "metadata": {},
   "source": [
    "# Environment & Config Check"
   ]
  },
  {
   "cell_type": "code",
   "execution_count": 9,
   "id": "e4360432",
   "metadata": {},
   "outputs": [
    {
     "name": "stdout",
     "output_type": "stream",
     "text": [
      "API_KEY present: True\n",
      "NumPy demo: [2 4 6]\n"
     ]
    }
   ],
   "source": [
    "from dotenv import load_dotenv, find_dotenv\n",
    "import os\n",
    "import numpy as np\n",
    "\n",
    "load_dotenv(find_dotenv())\n",
    "\n",
    "print(\"API_KEY present:\", os.getenv(\"API_KEY\") is not None)\n",
    "\n",
    "a = np.array([1, 2, 3])\n",
    "print(\"NumPy demo:\", a * 2)"
   ]
  }
 ],
 "metadata": {
  "kernelspec": {
   "display_name": "Python (bootcamp_env)",
   "language": "python",
   "name": "bootcamp_env"
  },
  "language_info": {
   "codemirror_mode": {
    "name": "ipython",
    "version": 3
   },
   "file_extension": ".py",
   "mimetype": "text/x-python",
   "name": "python",
   "nbconvert_exporter": "python",
   "pygments_lexer": "ipython3",
   "version": "3.10.18"
  }
 },
 "nbformat": 4,
 "nbformat_minor": 5
}
