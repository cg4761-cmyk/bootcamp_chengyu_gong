{
 "cells": [
  {
   "cell_type": "markdown",
   "id": "4a7974de",
   "metadata": {},
   "source": [
    "# Step 1"
   ]
  },
  {
   "cell_type": "code",
   "execution_count": 10,
   "id": "96f59b2a",
   "metadata": {},
   "outputs": [
    {
     "name": "stdout",
     "output_type": "stream",
     "text": [
      "[2, 4, 6]\n",
      "[2 4 6]\n"
     ]
    }
   ],
   "source": [
    "import numpy as np\n",
    "arr = [1,2,3]\n",
    "for i in range(len(arr)):\n",
    "    arr[i] = arr[i] * 2\n",
    "print(arr)\n",
    "\n",
    "vec = np.array([1,2,3])\n",
    "new_vec = vec * 2\n",
    "print(new_vec)"
   ]
  },
  {
   "cell_type": "markdown",
   "id": "5176f7c9",
   "metadata": {},
   "source": [
    "try to compare"
   ]
  },
  {
   "cell_type": "code",
   "execution_count": 11,
   "id": "80df7814",
   "metadata": {},
   "outputs": [
    {
     "name": "stdout",
     "output_type": "stream",
     "text": [
      "Loop time: 0.02447652816772461\n",
      "Vectorized time: 0.0009999275207519531\n"
     ]
    }
   ],
   "source": [
    "import time\n",
    "\n",
    "init_arr = [1,2,3] * 100000\n",
    "t0 = time.time()\n",
    "for i in range(len(init_arr)):\n",
    "    init_arr[i] = init_arr[i] * 2\n",
    "print(\"Loop time:\", time.time() - t0)\n",
    "\n",
    "init_vec = np.array(init_arr)\n",
    "t1 = time.time()\n",
    "init_vec = init_vec * 2\n",
    "print(\"Vectorized time:\", time.time() - t1)"
   ]
  },
  {
   "cell_type": "markdown",
   "id": "1105efb9",
   "metadata": {},
   "source": [
    "Compare to these two different method, using numpy array to do the vectorized is obviously faster than using loop."
   ]
  },
  {
   "cell_type": "markdown",
   "id": "b128cf38",
   "metadata": {},
   "source": [
    "# Step 2"
   ]
  },
  {
   "cell_type": "code",
   "execution_count": 22,
   "id": "446f4f11",
   "metadata": {},
   "outputs": [
    {
     "name": "stdout",
     "output_type": "stream",
     "text": [
      "<bound method DataFrame.info of   category  value        date\n",
      "0        A     10  2025-08-01\n",
      "1        B     15  2025-08-02\n",
      "2        A     12  2025-08-03\n",
      "3        B     18  2025-08-04\n",
      "4        C     25  2025-08-05\n",
      "5        C     30  2025-08-06\n",
      "6        A     11  2025-08-07\n",
      "7        B     14  2025-08-08\n",
      "8        C     28  2025-08-09\n",
      "9        A     13  2025-08-10>\n",
      "  category  value        date\n",
      "0        A     10  2025-08-01\n",
      "1        B     15  2025-08-02\n",
      "2        A     12  2025-08-03\n",
      "3        B     18  2025-08-04\n",
      "4        C     25  2025-08-05\n"
     ]
    }
   ],
   "source": [
    "import pandas as pd\n",
    "\n",
    "df = pd.read_csv(r\"C:\\Users\\K\\bootcamp_chengyu_gong\\data\\starter_data.csv\")\n",
    "\n",
    "print(df.info)\n",
    "\n",
    "print(df.head())"
   ]
  },
  {
   "cell_type": "markdown",
   "id": "2651b842",
   "metadata": {},
   "source": [
    "# Step 3"
   ]
  },
  {
   "cell_type": "code",
   "execution_count": 23,
   "id": "37bca093",
   "metadata": {},
   "outputs": [
    {
     "data": {
      "text/html": [
       "<div>\n",
       "<style scoped>\n",
       "    .dataframe tbody tr th:only-of-type {\n",
       "        vertical-align: middle;\n",
       "    }\n",
       "\n",
       "    .dataframe tbody tr th {\n",
       "        vertical-align: top;\n",
       "    }\n",
       "\n",
       "    .dataframe thead th {\n",
       "        text-align: right;\n",
       "    }\n",
       "</style>\n",
       "<table border=\"1\" class=\"dataframe\">\n",
       "  <thead>\n",
       "    <tr style=\"text-align: right;\">\n",
       "      <th></th>\n",
       "      <th>value</th>\n",
       "      <th>date</th>\n",
       "    </tr>\n",
       "    <tr>\n",
       "      <th>category</th>\n",
       "      <th></th>\n",
       "      <th></th>\n",
       "    </tr>\n",
       "  </thead>\n",
       "  <tbody>\n",
       "    <tr>\n",
       "      <th>A</th>\n",
       "      <td>46</td>\n",
       "      <td>2025-08-012025-08-032025-08-072025-08-10</td>\n",
       "    </tr>\n",
       "    <tr>\n",
       "      <th>B</th>\n",
       "      <td>47</td>\n",
       "      <td>2025-08-022025-08-042025-08-08</td>\n",
       "    </tr>\n",
       "    <tr>\n",
       "      <th>C</th>\n",
       "      <td>83</td>\n",
       "      <td>2025-08-052025-08-062025-08-09</td>\n",
       "    </tr>\n",
       "  </tbody>\n",
       "</table>\n",
       "</div>"
      ],
      "text/plain": [
       "          value                                      date\n",
       "category                                                 \n",
       "A            46  2025-08-012025-08-032025-08-072025-08-10\n",
       "B            47            2025-08-022025-08-042025-08-08\n",
       "C            83            2025-08-052025-08-062025-08-09"
      ]
     },
     "execution_count": 23,
     "metadata": {},
     "output_type": "execute_result"
    }
   ],
   "source": [
    "x = df.groupby(\"category\").sum()\n",
    "x"
   ]
  },
  {
   "cell_type": "markdown",
   "id": "5afe01a1",
   "metadata": {},
   "source": [
    "# Step 4"
   ]
  },
  {
   "cell_type": "code",
   "execution_count": 24,
   "id": "0f04dade",
   "metadata": {},
   "outputs": [
    {
     "name": "stdout",
     "output_type": "stream",
     "text": [
      "       category      value        date\n",
      "count        10  10.000000          10\n",
      "unique        3        NaN          10\n",
      "top           A        NaN  2025-08-01\n",
      "freq          4        NaN           1\n",
      "mean        NaN  17.600000         NaN\n",
      "std         NaN   7.381659         NaN\n",
      "min         NaN  10.000000         NaN\n",
      "25%         NaN  12.250000         NaN\n",
      "50%         NaN  14.500000         NaN\n",
      "75%         NaN  23.250000         NaN\n",
      "max         NaN  30.000000         NaN\n"
     ]
    }
   ],
   "source": [
    "summary = df.describe(include=\"all\")\n",
    "print(summary)"
   ]
  },
  {
   "cell_type": "code",
   "execution_count": 31,
   "id": "c9b6595e",
   "metadata": {},
   "outputs": [],
   "source": [
    "import os\n",
    "os.makedirs(r\"C:\\Users\\K\\bootcamp_chengyu_gong\\data\\processed\", exist_ok=True)\n",
    "summary.to_csv(r\"C:\\Users\\K\\bootcamp_chengyu_gong\\data\\processed\\summary.csv\")"
   ]
  },
  {
   "cell_type": "code",
   "execution_count": 33,
   "id": "b171cc7f",
   "metadata": {},
   "outputs": [],
   "source": [
    "import matplotlib.pyplot as plt\n",
    "\n",
    "plt.figure(figsize=(6,4))\n",
    "df[\"value\"].hist(bins=20)\n",
    "plt.title(\"Distribution of value\")\n",
    "plt.xlabel(\"Value\")\n",
    "plt.ylabel(\"Frequency\")\n",
    "\n",
    "plt.savefig(r\"C:\\Users\\K\\bootcamp_chengyu_gong\\data\\processed\\summary.png\")\n",
    "plt.close()"
   ]
  },
  {
   "cell_type": "markdown",
   "id": "87f3e042",
   "metadata": {},
   "source": [
    "# Step 5"
   ]
  },
  {
   "cell_type": "code",
   "execution_count": null,
   "id": "73a9f13e",
   "metadata": {},
   "outputs": [
    {
     "name": "stdout",
     "output_type": "stream",
     "text": [
      "       category  value        date\n",
      "count        10   10.0          10\n",
      "unique        3    NaN          10\n",
      "top           A    NaN  2025-08-01\n",
      "freq          4    NaN           1\n",
      "mean        NaN   17.6         NaN\n"
     ]
    }
   ],
   "source": [
    "import sys\n",
    "sys.path.append(\"..\")  \n",
    "\n",
    "from src.utils import get_summary_stats\n",
    "\n",
    "summary = get_summary_stats(df)\n",
    "print(summary.head())"
   ]
  }
 ],
 "metadata": {
  "kernelspec": {
   "display_name": "Python (bootcamp_env)",
   "language": "python",
   "name": "bootcamp_env"
  },
  "language_info": {
   "codemirror_mode": {
    "name": "ipython",
    "version": 3
   },
   "file_extension": ".py",
   "mimetype": "text/x-python",
   "name": "python",
   "nbconvert_exporter": "python",
   "pygments_lexer": "ipython3",
   "version": "3.10.18"
  }
 },
 "nbformat": 4,
 "nbformat_minor": 5
}
