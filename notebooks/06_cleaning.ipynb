{
 "cells": [
  {
   "cell_type": "code",
   "execution_count": 22,
   "id": "6ae6477c",
   "metadata": {},
   "outputs": [],
   "source": [
    "import pandas as pd\n",
    "from pathlib import Path\n",
    "import sys\n",
    "sys.path.append(\"..\") \n",
    "from src.cleaning import fill_missing_median, drop_missing, normalize_data\n",
    "from dotenv import load_dotenv\n",
    "import os\n",
    "os.chdir(\"..\")\n",
    "\n",
    "load_dotenv()\n",
    "\n",
    "DATA_DIR_RAW = Path(os.getenv(\"DATA_DIR_RAW\"))\n",
    "DATA_DIR_PROCESSED = Path(os.getenv(\"DATA_DIR_PROCESSED\"))"
   ]
  },
  {
   "cell_type": "code",
   "execution_count": 23,
   "id": "33954657",
   "metadata": {},
   "outputs": [
    {
     "name": "stdout",
     "output_type": "stream",
     "text": [
      "RAW: C:\\Users\\K\\bootcamp_chengyu_gong\\data\\raw\n",
      "PROCESSED: C:\\Users\\K\\bootcamp_chengyu_gong\\data\\processed\n"
     ]
    }
   ],
   "source": [
    "DATA_DIR_PROCESSED.mkdir(parents=True, exist_ok=True)\n",
    "\n",
    "print(\"RAW:\", DATA_DIR_RAW.resolve())\n",
    "print(\"PROCESSED:\", DATA_DIR_PROCESSED.resolve())"
   ]
  },
  {
   "cell_type": "code",
   "execution_count": 7,
   "id": "a1b842a0",
   "metadata": {},
   "outputs": [
    {
     "name": "stdout",
     "output_type": "stream",
     "text": [
      "(125, 2)\n",
      "date         0\n",
      "adj_close    0\n",
      "dtype: int64\n"
     ]
    },
    {
     "data": {
      "text/html": [
       "<div>\n",
       "<style scoped>\n",
       "    .dataframe tbody tr th:only-of-type {\n",
       "        vertical-align: middle;\n",
       "    }\n",
       "\n",
       "    .dataframe tbody tr th {\n",
       "        vertical-align: top;\n",
       "    }\n",
       "\n",
       "    .dataframe thead th {\n",
       "        text-align: right;\n",
       "    }\n",
       "</style>\n",
       "<table border=\"1\" class=\"dataframe\">\n",
       "  <thead>\n",
       "    <tr style=\"text-align: right;\">\n",
       "      <th></th>\n",
       "      <th>date</th>\n",
       "      <th>adj_close</th>\n",
       "    </tr>\n",
       "  </thead>\n",
       "  <tbody>\n",
       "    <tr>\n",
       "      <th>0</th>\n",
       "      <td>2025-02-18</td>\n",
       "      <td>243.873062</td>\n",
       "    </tr>\n",
       "    <tr>\n",
       "      <th>1</th>\n",
       "      <td>2025-02-19</td>\n",
       "      <td>244.272079</td>\n",
       "    </tr>\n",
       "    <tr>\n",
       "      <th>2</th>\n",
       "      <td>2025-02-20</td>\n",
       "      <td>245.229736</td>\n",
       "    </tr>\n",
       "    <tr>\n",
       "      <th>3</th>\n",
       "      <td>2025-02-21</td>\n",
       "      <td>244.950424</td>\n",
       "    </tr>\n",
       "    <tr>\n",
       "      <th>4</th>\n",
       "      <td>2025-02-24</td>\n",
       "      <td>246.496643</td>\n",
       "    </tr>\n",
       "  </tbody>\n",
       "</table>\n",
       "</div>"
      ],
      "text/plain": [
       "         date   adj_close\n",
       "0  2025-02-18  243.873062\n",
       "1  2025-02-19  244.272079\n",
       "2  2025-02-20  245.229736\n",
       "3  2025-02-21  244.950424\n",
       "4  2025-02-24  246.496643"
      ]
     },
     "execution_count": 7,
     "metadata": {},
     "output_type": "execute_result"
    }
   ],
   "source": [
    "file_path = r\"C:\\Users\\K\\bootcamp_chengyu_gong\\data\\raw\\api_yfinance_AAPL_20250818-1033.csv\"\n",
    "df = pd.read_csv(file_path)\n",
    "\n",
    "print(df.shape)\n",
    "print(df.isna().sum())\n",
    "df.head()\n"
   ]
  },
  {
   "cell_type": "code",
   "execution_count": 8,
   "id": "745b5811",
   "metadata": {},
   "outputs": [
    {
     "name": "stdout",
     "output_type": "stream",
     "text": [
      "<class 'pandas.core.frame.DataFrame'>\n",
      "RangeIndex: 125 entries, 0 to 124\n",
      "Data columns (total 2 columns):\n",
      " #   Column     Non-Null Count  Dtype         \n",
      "---  ------     --------------  -----         \n",
      " 0   date       125 non-null    datetime64[ns]\n",
      " 1   adj_close  125 non-null    float64       \n",
      "dtypes: datetime64[ns](1), float64(1)\n",
      "memory usage: 2.1 KB\n"
     ]
    }
   ],
   "source": [
    "df['date'] = pd.to_datetime(df['date'])\n",
    "df.info()"
   ]
  },
  {
   "cell_type": "code",
   "execution_count": 14,
   "id": "79ddcc20",
   "metadata": {},
   "outputs": [
    {
     "name": "stdout",
     "output_type": "stream",
     "text": [
      "date         0\n",
      "adj_close    0\n",
      "dtype: int64\n"
     ]
    },
    {
     "data": {
      "text/plain": [
       "(125, 2)"
      ]
     },
     "execution_count": 14,
     "metadata": {},
     "output_type": "execute_result"
    }
   ],
   "source": [
    "df_filled = fill_missing_median(df, columns=[\"adj_close\"]) \n",
    "print(df_filled.isna().sum())\n",
    "df_filled.shape\n"
   ]
  },
  {
   "cell_type": "code",
   "execution_count": 12,
   "id": "2fa4c120",
   "metadata": {},
   "outputs": [
    {
     "data": {
      "text/plain": [
       "(125, 2)"
      ]
     },
     "execution_count": 12,
     "metadata": {},
     "output_type": "execute_result"
    }
   ],
   "source": [
    "df_dropped_by_cols = drop_missing(df_filled, columns=[\"adj_close\"])\n",
    "df_dropped_by_cols.shape"
   ]
  },
  {
   "cell_type": "code",
   "execution_count": 13,
   "id": "739a178a",
   "metadata": {},
   "outputs": [
    {
     "data": {
      "text/plain": [
       "(125, 2)"
      ]
     },
     "execution_count": 13,
     "metadata": {},
     "output_type": "execute_result"
    }
   ],
   "source": [
    "df_dropped_by_thresh = drop_missing(df_filled, threshold=0.5)\n",
    "df_dropped_by_thresh.shape"
   ]
  },
  {
   "cell_type": "code",
   "execution_count": 15,
   "id": "4e8890b1",
   "metadata": {},
   "outputs": [
    {
     "data": {
      "text/plain": [
       "(125, 2)"
      ]
     },
     "execution_count": 15,
     "metadata": {},
     "output_type": "execute_result"
    }
   ],
   "source": [
    "df_to_scale = df_dropped_by_thresh.copy()\n",
    "df_scaled = normalize_data(df_to_scale, columns=[\"adj_close\"], method=\"zscore\") \n",
    "df_scaled.shape"
   ]
  },
  {
   "cell_type": "code",
   "execution_count": 17,
   "id": "d0d56926",
   "metadata": {},
   "outputs": [
    {
     "name": "stdout",
     "output_type": "stream",
     "text": [
      "orginal vs fill: True\n",
      "fill vs delete: True\n",
      "delete vs normalize: False\n"
     ]
    }
   ],
   "source": [
    "print(\"orginal vs fill:\", df.equals(df_filled))\n",
    "print(\"fill vs delete:\", df_filled.equals(df_dropped_by_cols))\n",
    "print(\"delete vs normalize:\", df_dropped_by_cols.equals(df_scaled))"
   ]
  },
  {
   "cell_type": "code",
   "execution_count": 24,
   "id": "d59a84c4",
   "metadata": {},
   "outputs": [
    {
     "ename": "NameError",
     "evalue": "name 'PROCESSED_DIR' is not defined",
     "output_type": "error",
     "traceback": [
      "\u001b[1;31m---------------------------------------------------------------------------\u001b[0m",
      "\u001b[1;31mNameError\u001b[0m                                 Traceback (most recent call last)",
      "Cell \u001b[1;32mIn[24], line 1\u001b[0m\n\u001b[1;32m----> 1\u001b[0m out_path \u001b[38;5;241m=\u001b[39m \u001b[43mPROCESSED_DIR\u001b[49m \u001b[38;5;241m/\u001b[39m \u001b[38;5;124m\"\u001b[39m\u001b[38;5;124mapi_yfinance_AAPL_20250818-1033_cleaned.csv\u001b[39m\u001b[38;5;124m\"\u001b[39m\n\u001b[0;32m      2\u001b[0m df_scaled\u001b[38;5;241m.\u001b[39mto_csv(out_path, index\u001b[38;5;241m=\u001b[39m\u001b[38;5;28;01mFalse\u001b[39;00m)\n\u001b[0;32m      3\u001b[0m out_path\n",
      "\u001b[1;31mNameError\u001b[0m: name 'PROCESSED_DIR' is not defined"
     ]
    }
   ],
   "source": [
    "out_path = PROCESSED_DIR / \"api_yfinance_AAPL_20250818-1033_cleaned.csv\"\n",
    "df_scaled.to_csv(out_path, index=False)\n",
    "out_path\n"
   ]
  }
 ],
 "metadata": {
  "kernelspec": {
   "display_name": "Python (bootcamp_env)",
   "language": "python",
   "name": "bootcamp_env"
  },
  "language_info": {
   "codemirror_mode": {
    "name": "ipython",
    "version": 3
   },
   "file_extension": ".py",
   "mimetype": "text/x-python",
   "name": "python",
   "nbconvert_exporter": "python",
   "pygments_lexer": "ipython3",
   "version": "3.10.18"
  }
 },
 "nbformat": 4,
 "nbformat_minor": 5
}
