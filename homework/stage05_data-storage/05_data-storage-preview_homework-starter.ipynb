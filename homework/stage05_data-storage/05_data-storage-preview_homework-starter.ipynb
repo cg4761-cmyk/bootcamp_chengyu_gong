{
 "cells": [
  {
   "cell_type": "code",
   "execution_count": 12,
   "id": "636d2666",
   "metadata": {},
   "outputs": [],
   "source": [
    "from pathlib import Path\n",
    "from datetime import datetime\n",
    "import os\n",
    "import pandas as pd\n",
    "from dotenv import load_dotenv, find_dotenv\n",
    "import sys\n",
    "project_root = Path.cwd().parent\n",
    "sys.path.append(str(project_root / \"src\"))\n",
    "from utils import write_df, read_df, get_summary_stats"
   ]
  },
  {
   "cell_type": "code",
   "execution_count": 4,
   "id": "06eaeb61",
   "metadata": {},
   "outputs": [
    {
     "name": "stdout",
     "output_type": "stream",
     "text": [
      "PROJECT_ROOT: C:\\Users\\K\\bootcamp_chengyu_gong\n",
      "RAW_DIR: C:\\Users\\K\\bootcamp_chengyu_gong\\data\\raw\n",
      "PROCESSED_DIR: C:\\Users\\K\\bootcamp_chengyu_gong\\data\\processed\n"
     ]
    }
   ],
   "source": [
    "\n",
    "ENV_PATH = find_dotenv()\n",
    "PROJECT_ROOT = Path(ENV_PATH).resolve().parent\n",
    "load_dotenv(ENV_PATH)\n",
    "\n",
    "RAW_DIR = (PROJECT_ROOT / os.getenv(\"DATA_DIR_RAW\", \"data/raw\")).resolve()\n",
    "PROCESSED_DIR = (PROJECT_ROOT / os.getenv(\"DATA_DIR_PROCESSED\", \"data/processed\")).resolve()\n",
    "\n",
    "RAW_DIR.mkdir(parents=True, exist_ok=True)\n",
    "PROCESSED_DIR.mkdir(parents=True, exist_ok=True)\n",
    "\n",
    "print(\"PROJECT_ROOT:\", PROJECT_ROOT)\n",
    "print(\"RAW_DIR:\", RAW_DIR)\n",
    "print(\"PROCESSED_DIR:\", PROCESSED_DIR)"
   ]
  },
  {
   "cell_type": "code",
   "execution_count": 5,
   "id": "628c772d",
   "metadata": {},
   "outputs": [
    {
     "name": "stdout",
     "output_type": "stream",
     "text": [
      "   index  value\n",
      "0      0      0\n",
      "1      1      1\n",
      "2      2      2\n",
      "3      3      3\n",
      "4      4      4\n"
     ]
    }
   ],
   "source": [
    "# create a df\n",
    "df = pd.DataFrame({\"index\": range(11), \"value\": range(11)})\n",
    "print(df.head())"
   ]
  },
  {
   "cell_type": "code",
   "execution_count": 14,
   "id": "623975f1",
   "metadata": {},
   "outputs": [
    {
     "name": "stdout",
     "output_type": "stream",
     "text": [
      "Saved to: C:\\Users\\K\\bootcamp_chengyu_gong\\data\\raw\\mydata.csv C:\\Users\\K\\bootcamp_chengyu_gong\\data\\processed\\mydata.parquet\n"
     ]
    }
   ],
   "source": [
    "csv_path = RAW_DIR / \"mydata.csv\"\n",
    "parquet_path = PROCESSED_DIR / \"mydata.parquet\"\n",
    "\n",
    "df.to_csv(csv_path, index=False)\n",
    "df.to_parquet(parquet_path, index=False)\n",
    "\n",
    "print(\"Saved to:\", csv_path, parquet_path)"
   ]
  },
  {
   "cell_type": "code",
   "execution_count": 8,
   "id": "cf4329f4",
   "metadata": {},
   "outputs": [
    {
     "name": "stdout",
     "output_type": "stream",
     "text": [
      "CSV shape: (11, 2)\n",
      "Parquet shape: (11, 2)\n"
     ]
    }
   ],
   "source": [
    "df_csv = pd.read_csv(csv_path)\n",
    "df_parq = pd.read_parquet(parquet_path, engine=\"pyarrow\")\n",
    "\n",
    "print(\"CSV shape:\", df_csv.shape)\n",
    "print(\"Parquet shape:\", df_parq.shape)"
   ]
  },
  {
   "cell_type": "code",
   "execution_count": 9,
   "id": "f3a9fa7d",
   "metadata": {},
   "outputs": [],
   "source": [
    "def validate_df(df_loaded, df_original):\n",
    "    report = {}\n",
    "    \n",
    "    report[\"shape_expected\"] = df_original.shape\n",
    "    report[\"shape_loaded\"] = df_loaded.shape\n",
    "    report[\"shape_ok\"] = (df_loaded.shape == df_original.shape)\n",
    "    \n",
    "    expected_dtypes = {col: str(dtype) for col, dtype in df_original.dtypes.items()}\n",
    "    loaded_dtypes = {col: str(dtype) for col, dtype in df_loaded.dtypes.items()}\n",
    "    \n",
    "    dtype_mismatches = {}\n",
    "    for col, exp in expected_dtypes.items():\n",
    "        if col in loaded_dtypes and loaded_dtypes[col] != exp:\n",
    "            dtype_mismatches[col] = {\"expected\": exp, \"actual\": loaded_dtypes[col]}\n",
    "    \n",
    "    report[\"dtypes_expected\"] = expected_dtypes\n",
    "    report[\"dtypes_loaded\"] = loaded_dtypes\n",
    "    report[\"dtypes_ok\"] = (len(dtype_mismatches) == 0)\n",
    "    report[\"dtype_mismatches\"] = dtype_mismatches\n",
    "    \n",
    "    report[\"all_ok\"] = report[\"shape_ok\"] and report[\"dtypes_ok\"]\n",
    "    return report"
   ]
  },
  {
   "cell_type": "code",
   "execution_count": 10,
   "id": "28c5354b",
   "metadata": {},
   "outputs": [
    {
     "name": "stdout",
     "output_type": "stream",
     "text": [
      "CSV validation report:\n",
      "{'shape_expected': (11, 2), 'shape_loaded': (11, 2), 'shape_ok': True, 'dtypes_expected': {'index': 'int64', 'value': 'int64'}, 'dtypes_loaded': {'index': 'int64', 'value': 'int64'}, 'dtypes_ok': True, 'dtype_mismatches': {}, 'all_ok': True}\n",
      "\n",
      "Parquet validation report:\n",
      "{'shape_expected': (11, 2), 'shape_loaded': (11, 2), 'shape_ok': True, 'dtypes_expected': {'index': 'int64', 'value': 'int64'}, 'dtypes_loaded': {'index': 'int64', 'value': 'int64'}, 'dtypes_ok': True, 'dtype_mismatches': {}, 'all_ok': True}\n"
     ]
    }
   ],
   "source": [
    "print(\"CSV validation report:\")\n",
    "print(validate_df(df_csv, df))\n",
    "\n",
    "print(\"\\nParquet validation report:\")\n",
    "print(validate_df(df_parq, df))\n"
   ]
  },
  {
   "cell_type": "code",
   "execution_count": 16,
   "id": "8a51f316",
   "metadata": {},
   "outputs": [
    {
     "name": "stdout",
     "output_type": "stream",
     "text": [
      "CSV loaded shape: (11, 2)\n",
      "Parquet loaded shape: (11, 2)\n"
     ]
    }
   ],
   "source": [
    "# 写入\n",
    "write_df(df, csv_path)\n",
    "write_df(df, parquet_path)\n",
    "\n",
    "# 读取\n",
    "df_csv = read_df(csv_path)\n",
    "df_parq = read_df(parquet_path)\n",
    "\n",
    "print(\"CSV loaded shape:\", df_csv.shape)\n",
    "print(\"Parquet loaded shape:\", df_parq.shape)"
   ]
  }
 ],
 "metadata": {
  "kernelspec": {
   "display_name": "Python (bootcamp_env)",
   "language": "python",
   "name": "bootcamp_env"
  },
  "language_info": {
   "codemirror_mode": {
    "name": "ipython",
    "version": 3
   },
   "file_extension": ".py",
   "mimetype": "text/x-python",
   "name": "python",
   "nbconvert_exporter": "python",
   "pygments_lexer": "ipython3",
   "version": "3.10.18"
  }
 },
 "nbformat": 4,
 "nbformat_minor": 5
}
